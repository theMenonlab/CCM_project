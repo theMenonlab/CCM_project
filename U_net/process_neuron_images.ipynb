{
 "cells": [
  {
   "cell_type": "code",
   "execution_count": 15,
   "metadata": {},
   "outputs": [],
   "source": [
    "import numpy as np\n",
    "import skimage.transform as skt\n",
    "import matplotlib.pyplot as plt\n",
    "import scipy.io as sio\n",
    "import os\n",
    "import skimage.transform as skt\n",
    "import my_alg\n",
    "import tensorflow as tf\n",
    "\n"
   ]
  },
  {
   "cell_type": "code",
   "execution_count": 16,
   "metadata": {
    "tags": []
   },
   "outputs": [],
   "source": [
    "ref_dir = 'H:/CCM/plant_20210320/ref'\n",
    "ccm_dir = 'H:/CCM/plant_20210320/ccm'  \n",
    "file_lst = os.listdir( ccm_dir) \n",
    "ref_imgs = []\n",
    "ref_imgs1 = []\n",
    "ccm_imgs = []\n",
    "ccm_imgs1 = []\n",
    "reshape_shape = [128,128] #[128,128,3]\n",
    "\n",
    "for ii in range(1):\n",
    "    for i in range( len( file_lst)):\n",
    "        i = i\n",
    "        ref_img_path = os.path.join( ref_dir, '%i.mat' % i)\n",
    "        ref_mat = sio.loadmat( ref_img_path, verify_compressed_data_integrity=False)\n",
    "        ref_img = ref_mat['objRef']\n",
    "        ref_img = ref_img - np.min( ref_img)\n",
    "        ref_img = ref_img / np.max( ref_img)\n",
    "        ref_img = skt.resize( ref_img, reshape_shape)\n",
    "        ref_imgs.append( ref_img)\n",
    "\n",
    "        ccm_img_path = os.path.join( ccm_dir, '%i.mat'%i)\n",
    "        ccm_mat = sio.loadmat( ccm_img_path)\n",
    "        ccm_img = ccm_mat['imgHDR']\n",
    "        ccm_img = ccm_img - np.min( ccm_img)\n",
    "        ccm_img = ccm_img / np.max( ccm_img)\n",
    "        ccm_img = skt.resize( ccm_img, reshape_shape)\n",
    "        ccm_imgs.append( ccm_img)\n",
    "\n",
    "        if i % 100 == 0:\n",
    "            print( i)\n",
    "    \n",
    "ref_imgs = np.array( ref_imgs)\n",
    "ccm_imgs = np.array( ccm_imgs)\n",
    "\n",
    "np.save( 'H:/CCM/ccm_plant_with_coverslip_20210320_128_allnorm.npy',ccm_imgs)\n",
    "np.save( 'H:/CCM/ref_plant_with_coverslip_20210320_128_allnorm.npy',ref_imgs)"
   ]
  },
  {
   "cell_type": "code",
   "execution_count": null,
   "metadata": {},
   "outputs": [],
   "source": []
  }
 ],
 "metadata": {
  "kernelspec": {
   "display_name": "Python 3",
   "language": "python",
   "name": "python3"
  },
  "language_info": {
   "codemirror_mode": {
    "name": "ipython",
    "version": 3
   },
   "file_extension": ".py",
   "mimetype": "text/x-python",
   "name": "python",
   "nbconvert_exporter": "python",
   "pygments_lexer": "ipython3",
   "version": "3.7.3"
  }
 },
 "nbformat": 4,
 "nbformat_minor": 4
}
